{
 "cells": [
  {
   "cell_type": "code",
   "execution_count": 31,
   "metadata": {},
   "outputs": [],
   "source": [
    "from dataSetReader import DataSetReader\n",
    "IMAGE_WIDTH = 50\n",
    "IMAGE_HEIGHT = 50\n",
    "BATCH_SIZE = 128\n",
    "\n",
    "dsr = DataSetReader(\n",
    "    data_dir='./dataset/train',\n",
    "    img_width=IMAGE_WIDTH,\n",
    "    img_height=IMAGE_HEIGHT,\n",
    "    batch_size=BATCH_SIZE\n",
    "    )\n",
    "train_ds = dsr.prepare_for_training()"
   ]
  },
  {
   "cell_type": "code",
   "execution_count": 32,
   "metadata": {},
   "outputs": [],
   "source": [
    "from tensorflow import keras\n",
    "from tensorflow.keras.layers import (\n",
    "    Conv2D,\n",
    "    Dense,\n",
    "    Flatten,\n",
    "    Dropout,\n",
    "    MaxPooling2D\n",
    ")\n",
    "\n",
    "model = keras.Sequential([\n",
    "   Conv2D(64, (3, 3), activation='relu', input_shape=(IMAGE_WIDTH, IMAGE_HEIGHT, 1)),\n",
    "   MaxPooling2D(pool_size=(2, 2)),   \n",
    "   Conv2D(32, (3, 3), activation='relu'),\n",
    "   MaxPooling2D(pool_size=(2, 2)),\n",
    "   Dropout(0.2),\n",
    "   Flatten(),\n",
    "   Dense(64, activation='relu'),\n",
    "   Dropout(0.4),\n",
    "   Dense(10, activation='softmax')\n",
    "])\n",
    "\n",
    "model.compile(optimizer='adam', loss='sparse_categorical_crossentropy', metrics=['accuracy'])"
   ]
  },
  {
   "cell_type": "code",
   "execution_count": 33,
   "metadata": {},
   "outputs": [
    {
     "output_type": "stream",
     "name": "stdout",
     "text": "Train for 73.0 steps\nEpoch 1/12\n73/73 [==============================] - 32s 440ms/step - loss: 0.9368 - accuracy: 0.6945\nEpoch 2/12\n73/73 [==============================] - 23s 317ms/step - loss: 0.2670 - accuracy: 0.9218\nEpoch 3/12\n73/73 [==============================] - 25s 341ms/step - loss: 0.1722 - accuracy: 0.9459\nEpoch 4/12\n73/73 [==============================] - 25s 338ms/step - loss: 0.1292 - accuracy: 0.9583\nEpoch 5/12\n73/73 [==============================] - 25s 336ms/step - loss: 0.1052 - accuracy: 0.9674\nEpoch 6/12\n73/73 [==============================] - 25s 344ms/step - loss: 0.0838 - accuracy: 0.9723\nEpoch 7/12\n73/73 [==============================] - 25s 339ms/step - loss: 0.0751 - accuracy: 0.9755\nEpoch 8/12\n73/73 [==============================] - 25s 341ms/step - loss: 0.0690 - accuracy: 0.9786\nEpoch 9/12\n73/73 [==============================] - 25s 338ms/step - loss: 0.0627 - accuracy: 0.9795\nEpoch 10/12\n73/73 [==============================] - 25s 342ms/step - loss: 0.0568 - accuracy: 0.9821\nEpoch 11/12\n73/73 [==============================] - 25s 340ms/step - loss: 0.0442 - accuracy: 0.9847\nEpoch 12/12\n73/73 [==============================] - 25s 346ms/step - loss: 0.0411 - accuracy: 0.9872\n"
    },
    {
     "output_type": "execute_result",
     "data": {
      "text/plain": "<tensorflow.python.keras.callbacks.History at 0x1fd0f65f2b0>"
     },
     "metadata": {},
     "execution_count": 33
    }
   ],
   "source": [
    "model.fit(train_ds, epochs=12, steps_per_epoch=dsr.STEPS_PER_EPOCH)"
   ]
  },
  {
   "cell_type": "code",
   "execution_count": 110,
   "metadata": {},
   "outputs": [],
   "source": [
    "# image_batch, label_batch = next(iter(test_ds))\n",
    "# show_batch(image_batch, label_batch.numpy())\n",
    "# predictions = model.predict(image_batch)\n",
    "\n",
    "# import numpy as np\n",
    "# m = {True: 0, False: 0}\n",
    "# for i in range(len(predictions)):\n",
    "#     m[np.argmax(predictions[i]) == label_batch.numpy()[i]] += 1\n",
    "#     if np.argmax(predictions[i]) != label_batch.numpy()[i]:\n",
    "#         print(i, np.argmax(predictions[i]), label_batch.numpy()[i])\n",
    "# print(m)"
   ]
  },
  {
   "cell_type": "code",
   "execution_count": 44,
   "metadata": {},
   "outputs": [],
   "source": [
    "def show_batch(image_batch, label_batch):\n",
    "    import matplotlib.pyplot as plt\n",
    "    from tensorflow import image\n",
    "    \n",
    "    plt.figure(figsize=(32, 32))\n",
    "    for n in range(len(image_batch)):\n",
    "        ax = plt.subplot(8, 8, n+1)\n",
    "        plt.imshow(image.grayscale_to_rgb(image_batch[n]).numpy(), cmap=plt.cm.gray)\n",
    "        plt.title(str(label_batch[n]) + '_' + str(n))\n",
    "        plt.axis('off')"
   ]
  },
  {
   "cell_type": "code",
   "execution_count": 116,
   "metadata": {},
   "outputs": [
    {
     "output_type": "stream",
     "name": "stdout",
     "text": "16/16 [==============================] - 2s 98ms/step - loss: 0.0306 - accuracy: 0.9902\n"
    },
    {
     "output_type": "execute_result",
     "data": {
      "text/plain": "[0.030554937635315582, 0.9902344]"
     },
     "metadata": {},
     "execution_count": 116
    }
   ],
   "source": [
    "tsr = DataSetReader(data_dir='./dataset/test', img_width=IMAGE_WIDTH, img_height=IMAGE_HEIGHT, batch_size=64)\n",
    "test_ds = tsr.prepare_for_training()\n",
    "model.evaluate(test_ds, steps=tsr.STEPS_PER_EPOCH)"
   ]
  },
  {
   "cell_type": "code",
   "execution_count": null,
   "metadata": {},
   "outputs": [],
   "source": []
  }
 ],
 "metadata": {
  "language_info": {
   "codemirror_mode": {
    "name": "ipython",
    "version": 3
   },
   "file_extension": ".py",
   "mimetype": "text/x-python",
   "name": "python",
   "nbconvert_exporter": "python",
   "pygments_lexer": "ipython3",
   "version": "3.7.3-final"
  },
  "orig_nbformat": 2,
  "kernelspec": {
   "name": "python37364bitc4f05b2e119e4c2c9fbe3a56694c7cc5",
   "display_name": "Python 3.7.3 64-bit"
  }
 },
 "nbformat": 4,
 "nbformat_minor": 2
}