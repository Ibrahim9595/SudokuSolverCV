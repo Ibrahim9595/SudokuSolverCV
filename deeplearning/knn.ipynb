{
 "cells": [
  {
   "cell_type": "code",
   "execution_count": 13,
   "metadata": {
    "tags": [
     "outputPrepend",
     "outputPrepend",
     "outputPrepend",
     "outputPrepend",
     "outputPrepend",
     "outputPrepend",
     "outputPrepend"
    ]
   },
   "outputs": [
    {
     "output_type": "stream",
     "name": "stdout",
     "text": "0 ends\n1 ends\n2 ends\n3 ends\n4 ends\n5 ends\n6 ends\n7 ends\n8 ends\n9 ends\n"
    }
   ],
   "source": [
    "\n",
    "import numpy as np\n",
    "import os\n",
    "import scipy.ndimage\n",
    "from skimage.feature import hog\n",
    "from sklearn.model_selection import  train_test_split\n",
    "from sklearn.neighbors import KNeighborsClassifier\n",
    "# from sklearn.externals import joblib\n",
    "import cv2\n",
    "\n",
    "features_list = []\n",
    "features_label = []\n",
    "# load labeled training / test data\n",
    "# loop over the 10 directories where each directory stores the images of a digit\n",
    "for digit in range(0,10):\n",
    "    label = digit\n",
    "    training_directory = './dataset/train/' + str(label) + '/'\n",
    "    for filename in os.listdir(training_directory):\n",
    "        if (filename.endswith('.png')):\n",
    "            training_digit = cv2.imread(training_directory + filename)\n",
    "            # df= hog(cv2.resize(training_digit, (50, 50)), orientations=8, pixels_per_cell=(4,4), cells_per_block=(7, 7))    \n",
    "            df = cv2.cvtColor(cv2.resize(training_digit, (80, 80)), cv2.COLOR_BGR2GRAY)\n",
    "            # extra digit's Histogram of Gradients (HOG). Divide the image into 5x5 blocks and where block in 10x10\n",
    "            # pixels\n",
    "       \n",
    "            features_list.append(df.flatten())\n",
    "            features_label.append(label)\n",
    "    print(str(digit) + ' ends')\n",
    "\n",
    "features = np.array(features_list, np.float32)\n",
    "features_list.clear()\n",
    "# save trained model\n",
    "# joblib.dump(knn, 'models/knn/knn_model.pkl')"
   ]
  },
  {
   "cell_type": "code",
   "execution_count": 15,
   "metadata": {},
   "outputs": [],
   "source": [
    "# split the labled dataset into training / test sets\n",
    "X_train, X_test, y_train, y_test = train_test_split(features, features_label)\n",
    "# train using K-NN\n",
    "knn = KNeighborsClassifier(n_neighbors=5, weights=\"distance\", algorithm='kd_tree', n_jobs=4)\n",
    "knn.fit(X_train, y_train)\n",
    "# get the model accuracy\n",
    "model_score = knn.score(X_test, y_test)"
   ]
  },
  {
   "cell_type": "code",
   "execution_count": 19,
   "metadata": {},
   "outputs": [
    {
     "output_type": "execute_result",
     "data": {
      "text/plain": "0.9352331606217616"
     },
     "metadata": {},
     "execution_count": 19
    }
   ],
   "source": [
    "model_score"
   ]
  },
  {
   "cell_type": "code",
   "execution_count": 10,
   "metadata": {},
   "outputs": [
    {
     "output_type": "execute_result",
     "data": {
      "text/plain": "['./models/knn/knn_model.pkl']"
     },
     "metadata": {},
     "execution_count": 10
    }
   ],
   "source": [
    "from joblib import dump\n",
    "# save trained model\n",
    "dump(knn, './models/knn/knn_model.pkl')"
   ]
  },
  {
   "cell_type": "code",
   "execution_count": 1,
   "metadata": {},
   "outputs": [],
   "source": [
    "from joblib import load\n",
    "knn = load('./models/knn/knn_model.pkl')"
   ]
  },
  {
   "cell_type": "code",
   "execution_count": 21,
   "metadata": {
    "tags": [
     "outputPrepend",
     "outputPrepend",
     "outputPrepend",
     "outputPrepend",
     "outputPrepend",
     "outputPrepend",
     "outputPrepend",
     "outputPrepend",
     "outputPrepend",
     "outputPrepend",
     "outputPrepend",
     "outputPrepend",
     "outputPrepend",
     "outputPrepend",
     "outputPrepend",
     "outputPrepend",
     "outputPrepend",
     "outputPrepend",
     "outputPrepend",
     "outputPrepend",
     "outputPrepend",
     "outputPrepend",
     "outputPrepend",
     "outputPrepend",
     "outputPrepend",
     "outputPrepend",
     "outputPrepend",
     "outputPrepend",
     "outputPrepend",
     "outputPrepend",
     "outputPrepend",
     "outputPrepend",
     "outputPrepend",
     "outputPrepend",
     "outputPrepend",
     "outputPrepend",
     "outputPrepend"
    ]
   },
   "outputs": [
    {
     "output_type": "stream",
     "name": "stdout",
     "text": "[7] 1 img002-00382.png\n[0] 1 img002-00689.png\n[7] 1 img002-00855.png\n[0] 1 img002-00879.png\n[7] 1 img002-01000.png\n[0] 1 j5_4.png\n[0] 2 img003-00295.png\n[3] 2 img003-00759.png\n[0] 2 img003-00876.png\n[8] 3 f2_4.png\n[5] 3 img004-00212.png\n[8] 3 img004-00383.png\n[9] 3 img004-00456.png\n[5] 3 img004-00462.png\n[0] 3 img004-00487.png\n[0] 3 img004-00689.png\n[0] 3 img004-00875.png\n[8] 3 img004-00876.png\n[0] 3 j3_8.png\n[0] 4 24.png\n[0] 4 64.png\n[1] 4 img005-00069.png\n[1] 4 img005-00212.png\n[9] 4 img005-00348.png\n[0] 4 img005-00692.png\n[1] 4 img005-00784.png\n[1] 4 img005-00826.png\n[0] 4 img005-00876.png\n[0] 4 img005-00879.png\n[0] 4 img005-00880.png\n[0] 4 j5_0.png\n[8] 5 95.png\n[7] 5 img006-00107.png\n[0] 5 img006-00531.png\n[6] 5 img006-00532.png\n[0] 6 76.png\n[8] 6 img007-00854.png\n[0] 6 img007-00877.png\n[4] 6 img007-00989.png\n[8] 6 img007-01007.png\n[0] 7 img008-00689.png\n[7] 8 f5_8.png\n[3] 8 img009-00117.png\n[1] 8 img009-00123.png\n[6] 8 img009-00480.png\n[3] 8 img009-00505.png\n[2] 8 img009-00686.png\n[0] 8 img009-00691.png\n[3] 8 img009-00755.png\n[1] 8 img009-00783.png\n[6] 8 img009-00826.png\n[0] 8 img009-00873.png\n[9] 8 img009-00897.png\n[9] 8 img009-00899.png\n[3] 8 j4_0.png\n[5] 8 l1_3.png\n[3] 8 m1_8.png\n[0] 9 img010-00295.png\n[0] 9 img010-00315.png\n[5] 9 img010-00774.png\n[2] 9 img010-00801.png\n[2] 9 img010-00951.png\n"
    }
   ],
   "source": [
    "from skimage.feature import hog\n",
    "import numpy as np\n",
    "import cv2\n",
    "\n",
    "m = {}\n",
    "for digit in range(0,10):\n",
    "    label = digit\n",
    "    training_directory = './dataset/test/' + str(label) + '/'\n",
    "    for filename in os.listdir(training_directory):\n",
    "        if (filename.endswith('.png')):\n",
    "            img = cv2.imread(training_directory + filename)\n",
    "            df= cv2.cvtColor(cv2.resize(img, (80, 80)), cv2.COLOR_BGR2GRAY)\n",
    "            preidiction = knn.predict(df.reshape(1, -1))\n",
    "            if preidiction[0] != label:\n",
    "                print(preidiction, label, filename)\n",
    "                \n",
    "            \n"
   ]
  },
  {
   "cell_type": "code",
   "execution_count": null,
   "metadata": {},
   "outputs": [],
   "source": []
  }
 ],
 "metadata": {
  "language_info": {
   "codemirror_mode": {
    "name": "ipython",
    "version": 3
   },
   "file_extension": ".py",
   "mimetype": "text/x-python",
   "name": "python",
   "nbconvert_exporter": "python",
   "pygments_lexer": "ipython3",
   "version": "3.7.3-final"
  },
  "orig_nbformat": 2,
  "kernelspec": {
   "name": "python37364bitc4f05b2e119e4c2c9fbe3a56694c7cc5",
   "display_name": "Python 3.7.3 64-bit"
  }
 },
 "nbformat": 4,
 "nbformat_minor": 2
}